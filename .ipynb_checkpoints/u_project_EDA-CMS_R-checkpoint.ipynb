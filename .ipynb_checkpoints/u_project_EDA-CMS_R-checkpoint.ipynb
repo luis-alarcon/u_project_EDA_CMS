{
 "cells": [
  {
   "cell_type": "code",
   "execution_count": null,
   "metadata": {},
   "outputs": [],
   "source": [
    "#import of the dataframe\n",
    "df_cms <- read.csv(url(\"https://data.cms.gov/api/views/97k6-zzx3/rows.csv?accessType=DOWNLOAD\"))\n",
    "\n",
    "list_census_region <- read.csv(\"/.datasets/regions_list/list_census_region.csv\")\n",
    "\n",
    "#remove space from the name of columns\n",
    "names(df_cms) <- make.names(names(df_cms),unique= TRUE)\n",
    "\n",
    "lcr_keys <- names(list_census_region)\n",
    "#adding the census region name\n",
    "for (i in lenght(list_census_region)){\n",
    "\tdf_cms$Census_Region <- ifelse(df_cms$State == list_census_region[i],lcr_keys,NA)\n",
    "}\n",
    "\n",
    "#plot image \n",
    "\n",
    "#mean the results in Y values\n",
    "cr_ncr_p1 <- ggplot(aes(x=df_cms$Census_Region, color= df_cms$Census_Region))+\n",
    "\tgeom_histogram()\n",
    "\n",
    "cr_td_p1 <- ggplot(aes(x=df_cms$Census_Region, y=df_cms$Total_Discharges, color= df_cms$Census_Region))+\n",
    "\tgeom_line()\n",
    "\n",
    "\n",
    "cr_acc_p1 <- ggplot(aes(x=df_cms$Census_Region, y=df_cms$Average_Coverage_Charges, color= df_cms$Census_Region))+\n",
    "\tgeom_line()\n",
    "\n",
    "cr_atp_p1 <- ggplot(aes(x=df_cms$Census_Region, y=df_cms$Average_Total_Payments, color= df_cms$Census_Region))+\n",
    "\tgeom_line()\n",
    "\n",
    "\n",
    "multiplor(cr_ncr_p1,cr_td_p1,cr_acc_p1,cr_atp_p1)\n",
    "\n",
    "# aid from http://www.cookbook-r.com/Graphs/Multiple_graphs_on_one_page_(ggplot2)/\n",
    "\n",
    "# https://cran.r-project.org/web/packages/HSAUR/vignettes/Ch_introduction_to_R.pdf\n",
    "\n",
    "# Statistical Analysis\n",
    "\n",
    "for (i in lenght(lcr_keys)){\n",
    "\tprint(\"This is the Summary for the Census Region\")\n",
    "\tprint(lcr_keys[i])\n",
    "\tsummary(subset(df_cms, Census_Region == lcr_keys))\n",
    "}"
   ]
  }
 ],
 "metadata": {
  "kernelspec": {
   "display_name": "R",
   "language": "R",
   "name": "ir"
  },
  "language_info": {
   "codemirror_mode": "r",
   "file_extension": ".r",
   "mimetype": "text/x-r-source",
   "name": "R",
   "pygments_lexer": "r",
   "version": "3.4.3"
  }
 },
 "nbformat": 4,
 "nbformat_minor": 2
}
