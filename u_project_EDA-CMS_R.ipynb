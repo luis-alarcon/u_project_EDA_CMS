{
 "cells": [
  {
   "cell_type": "code",
   "execution_count": 1,
   "metadata": {},
   "outputs": [],
   "source": [
    "#import of the dataframe\n",
    "df_cms <- read.csv(url(\"https://data.cms.gov/api/views/97k6-zzx3/rows.csv?accessType=DOWNLOAD\"))"
   ]
  },
  {
   "cell_type": "code",
   "execution_count": 2,
   "metadata": {},
   "outputs": [],
   "source": [
    "#remove space from the name of columns\n",
    "names(df_cms) <- make.names(names(df_cms),unique= TRUE)\n"
   ]
  },
  {
   "cell_type": "code",
   "execution_count": 3,
   "metadata": {},
   "outputs": [
    {
     "data": {
      "text/html": [
       "<table>\n",
       "<thead><tr><th scope=col>X</th><th scope=col>X0</th><th scope=col>X1</th><th scope=col>X2</th><th scope=col>X3</th><th scope=col>X4</th><th scope=col>X5</th><th scope=col>X6</th><th scope=col>X7</th><th scope=col>X8</th><th scope=col>X9</th><th scope=col>X10</th><th scope=col>X11</th><th scope=col>X12</th><th scope=col>X13</th><th scope=col>X14</th><th scope=col>X15</th><th scope=col>X16</th></tr></thead>\n",
       "<tbody>\n",
       "\t<tr><td>NORTHEAST</td><td>CT       </td><td>ME       </td><td>MA       </td><td>NH       </td><td>RI       </td><td>VT       </td><td>         </td><td>         </td><td>         </td><td>         </td><td>         </td><td>         </td><td>         </td><td>         </td><td>         </td><td>         </td><td>         </td></tr>\n",
       "\t<tr><td>MIDWEST  </td><td>IL       </td><td>IN       </td><td>MI       </td><td>OH       </td><td>WI       </td><td>IA       </td><td>KS, MN   </td><td>MO       </td><td>NE       </td><td>ND       </td><td>SD       </td><td>         </td><td>         </td><td>         </td><td>         </td><td>         </td><td>         </td></tr>\n",
       "\t<tr><td>SOUTH    </td><td>DE       </td><td>FL       </td><td>GA       </td><td>MD       </td><td>NC       </td><td>SC       </td><td>VA       </td><td>DC       </td><td>WV       </td><td>AL       </td><td>KY       </td><td>MS       </td><td>TN       </td><td>AR       </td><td>LA       </td><td>OK       </td><td>TX       </td></tr>\n",
       "\t<tr><td>WEST     </td><td>AZ       </td><td>CO       </td><td>ID       </td><td>MT       </td><td>NV       </td><td>NM       </td><td>UT       </td><td>WY       </td><td>AK       </td><td>CA       </td><td>HI       </td><td>OR       </td><td>WA       </td><td>         </td><td>         </td><td>         </td><td>         </td></tr>\n",
       "</tbody>\n",
       "</table>\n"
      ],
      "text/latex": [
       "\\begin{tabular}{r|llllllllllllllllll}\n",
       " X & X0 & X1 & X2 & X3 & X4 & X5 & X6 & X7 & X8 & X9 & X10 & X11 & X12 & X13 & X14 & X15 & X16\\\\\n",
       "\\hline\n",
       "\t NORTHEAST & CT        & ME        & MA        & NH        & RI        & VT        &           &           &           &           &           &           &           &           &           &           &          \\\\\n",
       "\t MIDWEST   & IL        & IN        & MI        & OH        & WI        & IA        & KS, MN    & MO        & NE        & ND        & SD        &           &           &           &           &           &          \\\\\n",
       "\t SOUTH     & DE        & FL        & GA        & MD        & NC        & SC        & VA        & DC        & WV        & AL        & KY        & MS        & TN        & AR        & LA        & OK        & TX       \\\\\n",
       "\t WEST      & AZ        & CO        & ID        & MT        & NV        & NM        & UT        & WY        & AK        & CA        & HI        & OR        & WA        &           &           &           &          \\\\\n",
       "\\end{tabular}\n"
      ],
      "text/markdown": [
       "\n",
       "X | X0 | X1 | X2 | X3 | X4 | X5 | X6 | X7 | X8 | X9 | X10 | X11 | X12 | X13 | X14 | X15 | X16 | \n",
       "|---|---|---|---|\n",
       "| NORTHEAST | CT        | ME        | MA        | NH        | RI        | VT        |           |           |           |           |           |           |           |           |           |           |           | \n",
       "| MIDWEST   | IL        | IN        | MI        | OH        | WI        | IA        | KS, MN    | MO        | NE        | ND        | SD        |           |           |           |           |           |           | \n",
       "| SOUTH     | DE        | FL        | GA        | MD        | NC        | SC        | VA        | DC        | WV        | AL        | KY        | MS        | TN        | AR        | LA        | OK        | TX        | \n",
       "| WEST      | AZ        | CO        | ID        | MT        | NV        | NM        | UT        | WY        | AK        | CA        | HI        | OR        | WA        |           |           |           |           | \n",
       "\n",
       "\n"
      ],
      "text/plain": [
       "  X         X0 X1 X2 X3 X4 X5 X6     X7 X8 X9 X10 X11 X12 X13 X14 X15 X16\n",
       "1 NORTHEAST CT ME MA NH RI VT                                            \n",
       "2 MIDWEST   IL IN MI OH WI IA KS, MN MO NE ND SD                         \n",
       "3 SOUTH     DE FL GA MD NC SC VA     DC WV AL KY  MS  TN  AR  LA  OK  TX \n",
       "4 WEST      AZ CO ID MT NV NM UT     WY AK CA HI  OR  WA                 "
      ]
     },
     "metadata": {},
     "output_type": "display_data"
    }
   ],
   "source": [
    "list_census_region <- read.csv(\"./datasets/region_list/list_census_region_abbre.csv\")\n",
    "\n",
    "head(list_census_region)"
   ]
  },
  {
   "cell_type": "code",
   "execution_count": 4,
   "metadata": {},
   "outputs": [
    {
     "data": {
      "text/html": [
       "<table>\n",
       "<thead><tr><th scope=col>X</th></tr></thead>\n",
       "<tbody>\n",
       "\t<tr><td>NORTHEAST</td></tr>\n",
       "\t<tr><td>MIDWEST  </td></tr>\n",
       "\t<tr><td>SOUTH    </td></tr>\n",
       "\t<tr><td>WEST     </td></tr>\n",
       "</tbody>\n",
       "</table>\n"
      ],
      "text/latex": [
       "\\begin{tabular}{r|l}\n",
       " X\\\\\n",
       "\\hline\n",
       "\t NORTHEAST\\\\\n",
       "\t MIDWEST  \\\\\n",
       "\t SOUTH    \\\\\n",
       "\t WEST     \\\\\n",
       "\\end{tabular}\n"
      ],
      "text/markdown": [
       "\n",
       "X | \n",
       "|---|---|---|---|\n",
       "| NORTHEAST | \n",
       "| MIDWEST   | \n",
       "| SOUTH     | \n",
       "| WEST      | \n",
       "\n",
       "\n"
      ],
      "text/plain": [
       "  X        \n",
       "1 NORTHEAST\n",
       "2 MIDWEST  \n",
       "3 SOUTH    \n",
       "4 WEST     "
      ]
     },
     "metadata": {},
     "output_type": "display_data"
    }
   ],
   "source": [
    "temp_data <- subset(list_census_region , select = -X)\n",
    "temp_headers <- subset(list_census_region, select = X)\n",
    "\n",
    "head(temp_headers)"
   ]
  },
  {
   "cell_type": "code",
   "execution_count": 5,
   "metadata": {},
   "outputs": [
    {
     "data": {
      "text/html": [
       "<table>\n",
       "<thead><tr><th scope=col>NORTHEAST</th><th scope=col>MIDWEST</th><th scope=col>SOUTH</th><th scope=col>WEST</th></tr></thead>\n",
       "<tbody>\n",
       "\t<tr><td>CT</td><td>IL</td><td>DE</td><td>AZ</td></tr>\n",
       "\t<tr><td>ME</td><td>IN</td><td>FL</td><td>CO</td></tr>\n",
       "\t<tr><td>MA</td><td>MI</td><td>GA</td><td>ID</td></tr>\n",
       "\t<tr><td>NH</td><td>OH</td><td>MD</td><td>MT</td></tr>\n",
       "\t<tr><td>RI</td><td>WI</td><td>NC</td><td>NV</td></tr>\n",
       "\t<tr><td>VT</td><td>IA</td><td>SC</td><td>NM</td></tr>\n",
       "</tbody>\n",
       "</table>\n"
      ],
      "text/latex": [
       "\\begin{tabular}{llll}\n",
       " NORTHEAST & MIDWEST & SOUTH & WEST\\\\\n",
       "\\hline\n",
       "\t CT & IL & DE & AZ\\\\\n",
       "\t ME & IN & FL & CO\\\\\n",
       "\t MA & MI & GA & ID\\\\\n",
       "\t NH & OH & MD & MT\\\\\n",
       "\t RI & WI & NC & NV\\\\\n",
       "\t VT & IA & SC & NM\\\\\n",
       "\\end{tabular}\n"
      ],
      "text/markdown": [
       "\n",
       "NORTHEAST | MIDWEST | SOUTH | WEST | \n",
       "|---|---|---|---|---|---|\n",
       "| CT | IL | DE | AZ | \n",
       "| ME | IN | FL | CO | \n",
       "| MA | MI | GA | ID | \n",
       "| NH | OH | MD | MT | \n",
       "| RI | WI | NC | NV | \n",
       "| VT | IA | SC | NM | \n",
       "\n",
       "\n"
      ],
      "text/plain": [
       "     NORTHEAST MIDWEST SOUTH WEST\n",
       "[1,] CT        IL      DE    AZ  \n",
       "[2,] ME        IN      FL    CO  \n",
       "[3,] MA        MI      GA    ID  \n",
       "[4,] NH        OH      MD    MT  \n",
       "[5,] RI        WI      NC    NV  \n",
       "[6,] VT        IA      SC    NM  "
      ]
     },
     "metadata": {},
     "output_type": "display_data"
    }
   ],
   "source": [
    "temp_data <- t(temp_data)\n",
    "\n",
    "colnames(temp_data) <- c(\"NORTHEAST\",\"MIDWEST\",\"SOUTH\",\"WEST\")\n",
    "\n",
    "rownames(temp_data) <- NULL\n",
    "\n",
    "head(temp_data)"
   ]
  },
  {
   "cell_type": "code",
   "execution_count": 6,
   "metadata": {},
   "outputs": [
    {
     "data": {
      "text/html": [
       "<table>\n",
       "<thead><tr><th scope=col>DRG.Definition</th><th scope=col>Provider.Id</th><th scope=col>Provider.Name</th><th scope=col>Provider.Street.Address</th><th scope=col>Provider.City</th><th scope=col>Provider.State</th><th scope=col>Provider.Zip.Code</th><th scope=col>Hospital.Referral.Region.Description</th><th scope=col>Total.Discharges</th><th scope=col>Average.Covered.Charges</th><th scope=col>Average.Total.Payments</th><th scope=col>Average.Medicare.Payments</th></tr></thead>\n",
       "<tbody>\n",
       "\t<tr><td>039 - EXTRACRANIAL PROCEDURES W/O CC/MCC</td><td>10001                                   </td><td>SOUTHEAST ALABAMA MEDICAL CENTER        </td><td>1108 ROSS CLARK CIRCLE                  </td><td>DOTHAN                                  </td><td>AL                                      </td><td>36301                                   </td><td>AL - Dothan                             </td><td>91                                      </td><td>32963.07                                </td><td>5777.24                                 </td><td>4763.73                                 </td></tr>\n",
       "\t<tr><td>039 - EXTRACRANIAL PROCEDURES W/O CC/MCC</td><td>10005                                   </td><td>MARSHALL MEDICAL CENTER SOUTH           </td><td>2505 U S HIGHWAY 431 NORTH              </td><td>BOAZ                                    </td><td>AL                                      </td><td>35957                                   </td><td>AL - Birmingham                         </td><td>14                                      </td><td>15131.85                                </td><td>5787.57                                 </td><td>4976.71                                 </td></tr>\n",
       "\t<tr><td>039 - EXTRACRANIAL PROCEDURES W/O CC/MCC</td><td>10006                                   </td><td>ELIZA COFFEE MEMORIAL HOSPITAL          </td><td>205 MARENGO STREET                      </td><td>FLORENCE                                </td><td>AL                                      </td><td>35631                                   </td><td>AL - Birmingham                         </td><td>24                                      </td><td>37560.37                                </td><td>5434.95                                 </td><td>4453.79                                 </td></tr>\n",
       "\t<tr><td>039 - EXTRACRANIAL PROCEDURES W/O CC/MCC</td><td>10011                                   </td><td>ST VINCENT'S EAST                       </td><td>50 MEDICAL PARK EAST DRIVE              </td><td>BIRMINGHAM                              </td><td>AL                                      </td><td>35235                                   </td><td>AL - Birmingham                         </td><td>25                                      </td><td>13998.28                                </td><td>5417.56                                 </td><td>4129.16                                 </td></tr>\n",
       "\t<tr><td>039 - EXTRACRANIAL PROCEDURES W/O CC/MCC</td><td>10016                                   </td><td>SHELBY BAPTIST MEDICAL CENTER           </td><td>1000 FIRST STREET NORTH                 </td><td>ALABASTER                               </td><td>AL                                      </td><td>35007                                   </td><td>AL - Birmingham                         </td><td>18                                      </td><td>31633.27                                </td><td>5658.33                                 </td><td>4851.44                                 </td></tr>\n",
       "\t<tr><td>039 - EXTRACRANIAL PROCEDURES W/O CC/MCC</td><td>10023                                   </td><td>BAPTIST MEDICAL CENTER SOUTH            </td><td>2105 EAST SOUTH BOULEVARD               </td><td>MONTGOMERY                              </td><td>AL                                      </td><td>36116                                   </td><td>AL - Montgomery                         </td><td>67                                      </td><td>16920.79                                </td><td>6653.80                                 </td><td>5374.14                                 </td></tr>\n",
       "</tbody>\n",
       "</table>\n"
      ],
      "text/latex": [
       "\\begin{tabular}{r|llllllllllll}\n",
       " DRG.Definition & Provider.Id & Provider.Name & Provider.Street.Address & Provider.City & Provider.State & Provider.Zip.Code & Hospital.Referral.Region.Description & Total.Discharges & Average.Covered.Charges & Average.Total.Payments & Average.Medicare.Payments\\\\\n",
       "\\hline\n",
       "\t 039 - EXTRACRANIAL PROCEDURES W/O CC/MCC & 10001                                    & SOUTHEAST ALABAMA MEDICAL CENTER         & 1108 ROSS CLARK CIRCLE                   & DOTHAN                                   & AL                                       & 36301                                    & AL - Dothan                              & 91                                       & 32963.07                                 & 5777.24                                  & 4763.73                                 \\\\\n",
       "\t 039 - EXTRACRANIAL PROCEDURES W/O CC/MCC & 10005                                    & MARSHALL MEDICAL CENTER SOUTH            & 2505 U S HIGHWAY 431 NORTH               & BOAZ                                     & AL                                       & 35957                                    & AL - Birmingham                          & 14                                       & 15131.85                                 & 5787.57                                  & 4976.71                                 \\\\\n",
       "\t 039 - EXTRACRANIAL PROCEDURES W/O CC/MCC & 10006                                    & ELIZA COFFEE MEMORIAL HOSPITAL           & 205 MARENGO STREET                       & FLORENCE                                 & AL                                       & 35631                                    & AL - Birmingham                          & 24                                       & 37560.37                                 & 5434.95                                  & 4453.79                                 \\\\\n",
       "\t 039 - EXTRACRANIAL PROCEDURES W/O CC/MCC & 10011                                    & ST VINCENT'S EAST                        & 50 MEDICAL PARK EAST DRIVE               & BIRMINGHAM                               & AL                                       & 35235                                    & AL - Birmingham                          & 25                                       & 13998.28                                 & 5417.56                                  & 4129.16                                 \\\\\n",
       "\t 039 - EXTRACRANIAL PROCEDURES W/O CC/MCC & 10016                                    & SHELBY BAPTIST MEDICAL CENTER            & 1000 FIRST STREET NORTH                  & ALABASTER                                & AL                                       & 35007                                    & AL - Birmingham                          & 18                                       & 31633.27                                 & 5658.33                                  & 4851.44                                 \\\\\n",
       "\t 039 - EXTRACRANIAL PROCEDURES W/O CC/MCC & 10023                                    & BAPTIST MEDICAL CENTER SOUTH             & 2105 EAST SOUTH BOULEVARD                & MONTGOMERY                               & AL                                       & 36116                                    & AL - Montgomery                          & 67                                       & 16920.79                                 & 6653.80                                  & 5374.14                                 \\\\\n",
       "\\end{tabular}\n"
      ],
      "text/markdown": [
       "\n",
       "DRG.Definition | Provider.Id | Provider.Name | Provider.Street.Address | Provider.City | Provider.State | Provider.Zip.Code | Hospital.Referral.Region.Description | Total.Discharges | Average.Covered.Charges | Average.Total.Payments | Average.Medicare.Payments | \n",
       "|---|---|---|---|---|---|\n",
       "| 039 - EXTRACRANIAL PROCEDURES W/O CC/MCC | 10001                                    | SOUTHEAST ALABAMA MEDICAL CENTER         | 1108 ROSS CLARK CIRCLE                   | DOTHAN                                   | AL                                       | 36301                                    | AL - Dothan                              | 91                                       | 32963.07                                 | 5777.24                                  | 4763.73                                  | \n",
       "| 039 - EXTRACRANIAL PROCEDURES W/O CC/MCC | 10005                                    | MARSHALL MEDICAL CENTER SOUTH            | 2505 U S HIGHWAY 431 NORTH               | BOAZ                                     | AL                                       | 35957                                    | AL - Birmingham                          | 14                                       | 15131.85                                 | 5787.57                                  | 4976.71                                  | \n",
       "| 039 - EXTRACRANIAL PROCEDURES W/O CC/MCC | 10006                                    | ELIZA COFFEE MEMORIAL HOSPITAL           | 205 MARENGO STREET                       | FLORENCE                                 | AL                                       | 35631                                    | AL - Birmingham                          | 24                                       | 37560.37                                 | 5434.95                                  | 4453.79                                  | \n",
       "| 039 - EXTRACRANIAL PROCEDURES W/O CC/MCC | 10011                                    | ST VINCENT'S EAST                        | 50 MEDICAL PARK EAST DRIVE               | BIRMINGHAM                               | AL                                       | 35235                                    | AL - Birmingham                          | 25                                       | 13998.28                                 | 5417.56                                  | 4129.16                                  | \n",
       "| 039 - EXTRACRANIAL PROCEDURES W/O CC/MCC | 10016                                    | SHELBY BAPTIST MEDICAL CENTER            | 1000 FIRST STREET NORTH                  | ALABASTER                                | AL                                       | 35007                                    | AL - Birmingham                          | 18                                       | 31633.27                                 | 5658.33                                  | 4851.44                                  | \n",
       "| 039 - EXTRACRANIAL PROCEDURES W/O CC/MCC | 10023                                    | BAPTIST MEDICAL CENTER SOUTH             | 2105 EAST SOUTH BOULEVARD                | MONTGOMERY                               | AL                                       | 36116                                    | AL - Montgomery                          | 67                                       | 16920.79                                 | 6653.80                                  | 5374.14                                  | \n",
       "\n",
       "\n"
      ],
      "text/plain": [
       "  DRG.Definition                           Provider.Id\n",
       "1 039 - EXTRACRANIAL PROCEDURES W/O CC/MCC 10001      \n",
       "2 039 - EXTRACRANIAL PROCEDURES W/O CC/MCC 10005      \n",
       "3 039 - EXTRACRANIAL PROCEDURES W/O CC/MCC 10006      \n",
       "4 039 - EXTRACRANIAL PROCEDURES W/O CC/MCC 10011      \n",
       "5 039 - EXTRACRANIAL PROCEDURES W/O CC/MCC 10016      \n",
       "6 039 - EXTRACRANIAL PROCEDURES W/O CC/MCC 10023      \n",
       "  Provider.Name                    Provider.Street.Address    Provider.City\n",
       "1 SOUTHEAST ALABAMA MEDICAL CENTER 1108 ROSS CLARK CIRCLE     DOTHAN       \n",
       "2 MARSHALL MEDICAL CENTER SOUTH    2505 U S HIGHWAY 431 NORTH BOAZ         \n",
       "3 ELIZA COFFEE MEMORIAL HOSPITAL   205 MARENGO STREET         FLORENCE     \n",
       "4 ST VINCENT'S EAST                50 MEDICAL PARK EAST DRIVE BIRMINGHAM   \n",
       "5 SHELBY BAPTIST MEDICAL CENTER    1000 FIRST STREET NORTH    ALABASTER    \n",
       "6 BAPTIST MEDICAL CENTER SOUTH     2105 EAST SOUTH BOULEVARD  MONTGOMERY   \n",
       "  Provider.State Provider.Zip.Code Hospital.Referral.Region.Description\n",
       "1 AL             36301             AL - Dothan                         \n",
       "2 AL             35957             AL - Birmingham                     \n",
       "3 AL             35631             AL - Birmingham                     \n",
       "4 AL             35235             AL - Birmingham                     \n",
       "5 AL             35007             AL - Birmingham                     \n",
       "6 AL             36116             AL - Montgomery                     \n",
       "  Total.Discharges Average.Covered.Charges Average.Total.Payments\n",
       "1 91               32963.07                5777.24               \n",
       "2 14               15131.85                5787.57               \n",
       "3 24               37560.37                5434.95               \n",
       "4 25               13998.28                5417.56               \n",
       "5 18               31633.27                5658.33               \n",
       "6 67               16920.79                6653.80               \n",
       "  Average.Medicare.Payments\n",
       "1 4763.73                  \n",
       "2 4976.71                  \n",
       "3 4453.79                  \n",
       "4 4129.16                  \n",
       "5 4851.44                  \n",
       "6 5374.14                  "
      ]
     },
     "metadata": {},
     "output_type": "display_data"
    }
   ],
   "source": [
    "head(df_cms)"
   ]
  },
  {
   "cell_type": "code",
   "execution_count": 19,
   "metadata": {},
   "outputs": [
    {
     "data": {
      "text/html": [
       "<table>\n",
       "<thead><tr><th scope=col>NORTHEAST</th><th scope=col>MIDWEST</th><th scope=col>SOUTH</th><th scope=col>WEST</th></tr></thead>\n",
       "<tbody>\n",
       "\t<tr><td>CT</td><td>IL</td><td>DE</td><td>AZ</td></tr>\n",
       "\t<tr><td>ME</td><td>IN</td><td>FL</td><td>CO</td></tr>\n",
       "\t<tr><td>MA</td><td>MI</td><td>GA</td><td>ID</td></tr>\n",
       "\t<tr><td>NH</td><td>OH</td><td>MD</td><td>MT</td></tr>\n",
       "\t<tr><td>RI</td><td>WI</td><td>NC</td><td>NV</td></tr>\n",
       "\t<tr><td>VT</td><td>IA</td><td>SC</td><td>NM</td></tr>\n",
       "</tbody>\n",
       "</table>\n"
      ],
      "text/latex": [
       "\\begin{tabular}{llll}\n",
       " NORTHEAST & MIDWEST & SOUTH & WEST\\\\\n",
       "\\hline\n",
       "\t CT & IL & DE & AZ\\\\\n",
       "\t ME & IN & FL & CO\\\\\n",
       "\t MA & MI & GA & ID\\\\\n",
       "\t NH & OH & MD & MT\\\\\n",
       "\t RI & WI & NC & NV\\\\\n",
       "\t VT & IA & SC & NM\\\\\n",
       "\\end{tabular}\n"
      ],
      "text/markdown": [
       "\n",
       "NORTHEAST | MIDWEST | SOUTH | WEST | \n",
       "|---|---|---|---|---|---|\n",
       "| CT | IL | DE | AZ | \n",
       "| ME | IN | FL | CO | \n",
       "| MA | MI | GA | ID | \n",
       "| NH | OH | MD | MT | \n",
       "| RI | WI | NC | NV | \n",
       "| VT | IA | SC | NM | \n",
       "\n",
       "\n"
      ],
      "text/plain": [
       "     NORTHEAST MIDWEST SOUTH WEST\n",
       "[1,] CT        IL      DE    AZ  \n",
       "[2,] ME        IN      FL    CO  \n",
       "[3,] MA        MI      GA    ID  \n",
       "[4,] NH        OH      MD    MT  \n",
       "[5,] RI        WI      NC    NV  \n",
       "[6,] VT        IA      SC    NM  "
      ]
     },
     "metadata": {},
     "output_type": "display_data"
    },
    {
     "ename": "ERROR",
     "evalue": "Error: $ operator is invalid for atomic vectors\n",
     "output_type": "error",
     "traceback": [
      "Error: $ operator is invalid for atomic vectors\nTraceback:\n",
      "1. print(list_census_region$i)"
     ]
    }
   ],
   "source": [
    "list_census_region<- temp_data\n",
    "#adding the census region name\n",
    "head(list_census_region)\n",
    "lcr_cn <- colnames(list_census_region)\n",
    "\n",
    "for (i in lcr_cn){ \n",
    "    for(j in df_cms$Provider.State){\n",
    "        df_cms$Census_Region <- ifelse(j == list_census_region$i,i,NA)\n",
    "    }\n",
    "}\n",
    "#df_cms$Census_Region <- ifelse(list_census_region[i],lcr_keys,NA)\n",
    "\n"
   ]
  },
  {
   "cell_type": "code",
   "execution_count": 15,
   "metadata": {},
   "outputs": [
    {
     "ename": "ERROR",
     "evalue": "Error in list_census_region$NORTHEAST: $ operator is invalid for atomic vectors\n",
     "output_type": "error",
     "traceback": [
      "Error in list_census_region$NORTHEAST: $ operator is invalid for atomic vectors\nTraceback:\n",
      "1. head(list_census_region$NORTHEAST)"
     ]
    }
   ],
   "source": [
    "head(list_census_region$NORTHEAST)"
   ]
  },
  {
   "cell_type": "code",
   "execution_count": null,
   "metadata": {},
   "outputs": [],
   "source": [
    "#import of the dataframe\n",
    "df_cms <- read.csv(url(\"https://data.cms.gov/api/views/97k6-zzx3/rows.csv?accessType=DOWNLOAD\"))\n",
    "\n",
    "list_census_region <- read.csv(\"/.datasets/region_list/list_census_region.csv\")\n",
    "\n",
    "#remove space from the name of columns\n",
    "names(df_cms) <- make.names(names(df_cms),unique= TRUE)\n",
    "\n",
    "lcr_keys <- names(list_census_region)\n",
    "#adding the census region name\n",
    "for (i in lenght(list_census_region)){\n",
    "    df_cms$Census_Region <- ifelse(df_cms$State == list_census_region[i],lcr_keys,NA)\n",
    "}\n",
    "\n",
    "#plot image \n",
    "\n",
    "#mean the results in Y values\n",
    "cr_ncr_p1 <- ggplot(aes(x=df_cms$Census_Region, color= df_cms$Census_Region))+\n",
    "geom_histogram()\n",
    "\n",
    "cr_td_p1 <- ggplot(aes(x=df_cms$Census_Region, y=df_cms$Total_Discharges, color= df_cms$Census_Region))+\n",
    "geom_line()\n",
    "\n",
    "\n",
    "cr_acc_p1 <- ggplot(aes(x=df_cms$Census_Region, y=df_cms$Average_Coverage_Charges, color= df_cms$Census_Region))+\n",
    "geom_line()\n",
    "\n",
    "cr_atp_p1 <- ggplot(aes(x=df_cms$Census_Region, y=df_cms$Average_Total_Payments, color= df_cms$Census_Region))+\n",
    "geom_line()\n",
    "\n",
    "\n",
    "multiplor(cr_ncr_p1,cr_td_p1,cr_acc_p1,cr_atp_p1)\n",
    "\n",
    "# aid from http://www.cookbook-r.com/Graphs/Multiple_graphs_on_one_page_(ggplot2)/\n",
    "\n",
    "# https://cran.r-project.org/web/packages/HSAUR/vignettes/Ch_introduction_to_R.pdf\n",
    "\n",
    "# Statistical Analysis\n",
    "\n",
    "for (i in lenght(lcr_keys)){\n",
    "    print(\"This is the Summary for the Census Region\")\n",
    "    print(lcr_keys[i])\n",
    "    summary(subset(df_cms, Census_Region == lcr_keys))\n",
    "}"
   ]
  }
 ],
 "metadata": {
  "kernelspec": {
   "display_name": "R",
   "language": "R",
   "name": "ir"
  },
  "language_info": {
   "codemirror_mode": "r",
   "file_extension": ".r",
   "mimetype": "text/x-r-source",
   "name": "R",
   "pygments_lexer": "r",
   "version": "3.4.3"
  }
 },
 "nbformat": 4,
 "nbformat_minor": 2
}
