{
 "cells": [
  {
   "cell_type": "code",
   "execution_count": 20,
   "metadata": {},
   "outputs": [],
   "source": [
    "#import of the dataframe\n",
    "df_cms <- read.csv(\"./datasets/df_cms.csv\")"
   ]
  },
  {
   "cell_type": "code",
   "execution_count": 21,
   "metadata": {},
   "outputs": [],
   "source": [
    "#remove space from the name of columns\n",
    "names(df_cms) <- make.names(names(df_cms),unique= TRUE)\n"
   ]
  },
  {
   "cell_type": "code",
   "execution_count": 22,
   "metadata": {},
   "outputs": [
    {
     "data": {
      "text/html": [
       "<table>\n",
       "<thead><tr><th scope=col>DRG.Definition</th><th scope=col>Provider.Id</th><th scope=col>Provider.Name</th><th scope=col>Provider.Street.Address</th><th scope=col>Provider.City</th><th scope=col>Provider.State</th><th scope=col>Provider.Zip.Code</th><th scope=col>Hospital.Referral.Region.Description</th><th scope=col>Total.Discharges</th><th scope=col>Average.Covered.Charges</th><th scope=col>Average.Total.Payments</th><th scope=col>Average.Medicare.Payments</th><th scope=col>Census.Region</th><th scope=col>Census.Region.Division</th><th scope=col>Federal.Region</th><th scope=col>Economic.Analysis.Region</th></tr></thead>\n",
       "<tbody>\n",
       "\t<tr><td>039 - EXTRACRANIAL PROCEDURES W/O CC/MCC</td><td>10001                                   </td><td>SOUTHEAST ALABAMA MEDICAL CENTER        </td><td>1108 ROSS CLARK CIRCLE                  </td><td>DOTHAN                                  </td><td>AL                                      </td><td>36301                                   </td><td>AL - Dothan                             </td><td>91                                      </td><td>32963.07                                </td><td>5777.24                                 </td><td>4763.73                                 </td><td>SOUTH                                   </td><td>D6_EAST_SOUTH_CENTRAL                   </td><td>REGION_IV                               </td><td>SOUTHEAST                               </td></tr>\n",
       "\t<tr><td>039 - EXTRACRANIAL PROCEDURES W/O CC/MCC</td><td>10005                                   </td><td>MARSHALL MEDICAL CENTER SOUTH           </td><td>2505 U S HIGHWAY 431 NORTH              </td><td>BOAZ                                    </td><td>AL                                      </td><td>35957                                   </td><td>AL - Birmingham                         </td><td>14                                      </td><td>15131.85                                </td><td>5787.57                                 </td><td>4976.71                                 </td><td>SOUTH                                   </td><td>D6_EAST_SOUTH_CENTRAL                   </td><td>REGION_IV                               </td><td>SOUTHEAST                               </td></tr>\n",
       "\t<tr><td>039 - EXTRACRANIAL PROCEDURES W/O CC/MCC</td><td>10006                                   </td><td>ELIZA COFFEE MEMORIAL HOSPITAL          </td><td>205 MARENGO STREET                      </td><td>FLORENCE                                </td><td>AL                                      </td><td>35631                                   </td><td>AL - Birmingham                         </td><td>24                                      </td><td>37560.37                                </td><td>5434.95                                 </td><td>4453.79                                 </td><td>SOUTH                                   </td><td>D6_EAST_SOUTH_CENTRAL                   </td><td>REGION_IV                               </td><td>SOUTHEAST                               </td></tr>\n",
       "\t<tr><td>039 - EXTRACRANIAL PROCEDURES W/O CC/MCC</td><td>10011                                   </td><td>ST VINCENT'S EAST                       </td><td>50 MEDICAL PARK EAST DRIVE              </td><td>BIRMINGHAM                              </td><td>AL                                      </td><td>35235                                   </td><td>AL - Birmingham                         </td><td>25                                      </td><td>13998.28                                </td><td>5417.56                                 </td><td>4129.16                                 </td><td>SOUTH                                   </td><td>D6_EAST_SOUTH_CENTRAL                   </td><td>REGION_IV                               </td><td>SOUTHEAST                               </td></tr>\n",
       "\t<tr><td>039 - EXTRACRANIAL PROCEDURES W/O CC/MCC</td><td>10016                                   </td><td>SHELBY BAPTIST MEDICAL CENTER           </td><td>1000 FIRST STREET NORTH                 </td><td>ALABASTER                               </td><td>AL                                      </td><td>35007                                   </td><td>AL - Birmingham                         </td><td>18                                      </td><td>31633.27                                </td><td>5658.33                                 </td><td>4851.44                                 </td><td>SOUTH                                   </td><td>D6_EAST_SOUTH_CENTRAL                   </td><td>REGION_IV                               </td><td>SOUTHEAST                               </td></tr>\n",
       "\t<tr><td>039 - EXTRACRANIAL PROCEDURES W/O CC/MCC</td><td>10023                                   </td><td>BAPTIST MEDICAL CENTER SOUTH            </td><td>2105 EAST SOUTH BOULEVARD               </td><td>MONTGOMERY                              </td><td>AL                                      </td><td>36116                                   </td><td>AL - Montgomery                         </td><td>67                                      </td><td>16920.79                                </td><td>6653.80                                 </td><td>5374.14                                 </td><td>SOUTH                                   </td><td>D6_EAST_SOUTH_CENTRAL                   </td><td>REGION_IV                               </td><td>SOUTHEAST                               </td></tr>\n",
       "</tbody>\n",
       "</table>\n"
      ],
      "text/latex": [
       "\\begin{tabular}{r|llllllllllllllll}\n",
       " DRG.Definition & Provider.Id & Provider.Name & Provider.Street.Address & Provider.City & Provider.State & Provider.Zip.Code & Hospital.Referral.Region.Description & Total.Discharges & Average.Covered.Charges & Average.Total.Payments & Average.Medicare.Payments & Census.Region & Census.Region.Division & Federal.Region & Economic.Analysis.Region\\\\\n",
       "\\hline\n",
       "\t 039 - EXTRACRANIAL PROCEDURES W/O CC/MCC & 10001                                    & SOUTHEAST ALABAMA MEDICAL CENTER         & 1108 ROSS CLARK CIRCLE                   & DOTHAN                                   & AL                                       & 36301                                    & AL - Dothan                              & 91                                       & 32963.07                                 & 5777.24                                  & 4763.73                                  & SOUTH                                    & D6\\_EAST\\_SOUTH\\_CENTRAL              & REGION\\_IV                              & SOUTHEAST                               \\\\\n",
       "\t 039 - EXTRACRANIAL PROCEDURES W/O CC/MCC & 10005                                    & MARSHALL MEDICAL CENTER SOUTH            & 2505 U S HIGHWAY 431 NORTH               & BOAZ                                     & AL                                       & 35957                                    & AL - Birmingham                          & 14                                       & 15131.85                                 & 5787.57                                  & 4976.71                                  & SOUTH                                    & D6\\_EAST\\_SOUTH\\_CENTRAL              & REGION\\_IV                              & SOUTHEAST                               \\\\\n",
       "\t 039 - EXTRACRANIAL PROCEDURES W/O CC/MCC & 10006                                    & ELIZA COFFEE MEMORIAL HOSPITAL           & 205 MARENGO STREET                       & FLORENCE                                 & AL                                       & 35631                                    & AL - Birmingham                          & 24                                       & 37560.37                                 & 5434.95                                  & 4453.79                                  & SOUTH                                    & D6\\_EAST\\_SOUTH\\_CENTRAL              & REGION\\_IV                              & SOUTHEAST                               \\\\\n",
       "\t 039 - EXTRACRANIAL PROCEDURES W/O CC/MCC & 10011                                    & ST VINCENT'S EAST                        & 50 MEDICAL PARK EAST DRIVE               & BIRMINGHAM                               & AL                                       & 35235                                    & AL - Birmingham                          & 25                                       & 13998.28                                 & 5417.56                                  & 4129.16                                  & SOUTH                                    & D6\\_EAST\\_SOUTH\\_CENTRAL              & REGION\\_IV                              & SOUTHEAST                               \\\\\n",
       "\t 039 - EXTRACRANIAL PROCEDURES W/O CC/MCC & 10016                                    & SHELBY BAPTIST MEDICAL CENTER            & 1000 FIRST STREET NORTH                  & ALABASTER                                & AL                                       & 35007                                    & AL - Birmingham                          & 18                                       & 31633.27                                 & 5658.33                                  & 4851.44                                  & SOUTH                                    & D6\\_EAST\\_SOUTH\\_CENTRAL              & REGION\\_IV                              & SOUTHEAST                               \\\\\n",
       "\t 039 - EXTRACRANIAL PROCEDURES W/O CC/MCC & 10023                                    & BAPTIST MEDICAL CENTER SOUTH             & 2105 EAST SOUTH BOULEVARD                & MONTGOMERY                               & AL                                       & 36116                                    & AL - Montgomery                          & 67                                       & 16920.79                                 & 6653.80                                  & 5374.14                                  & SOUTH                                    & D6\\_EAST\\_SOUTH\\_CENTRAL              & REGION\\_IV                              & SOUTHEAST                               \\\\\n",
       "\\end{tabular}\n"
      ],
      "text/markdown": [
       "\n",
       "DRG.Definition | Provider.Id | Provider.Name | Provider.Street.Address | Provider.City | Provider.State | Provider.Zip.Code | Hospital.Referral.Region.Description | Total.Discharges | Average.Covered.Charges | Average.Total.Payments | Average.Medicare.Payments | Census.Region | Census.Region.Division | Federal.Region | Economic.Analysis.Region | \n",
       "|---|---|---|---|---|---|\n",
       "| 039 - EXTRACRANIAL PROCEDURES W/O CC/MCC | 10001                                    | SOUTHEAST ALABAMA MEDICAL CENTER         | 1108 ROSS CLARK CIRCLE                   | DOTHAN                                   | AL                                       | 36301                                    | AL - Dothan                              | 91                                       | 32963.07                                 | 5777.24                                  | 4763.73                                  | SOUTH                                    | D6_EAST_SOUTH_CENTRAL                    | REGION_IV                                | SOUTHEAST                                | \n",
       "| 039 - EXTRACRANIAL PROCEDURES W/O CC/MCC | 10005                                    | MARSHALL MEDICAL CENTER SOUTH            | 2505 U S HIGHWAY 431 NORTH               | BOAZ                                     | AL                                       | 35957                                    | AL - Birmingham                          | 14                                       | 15131.85                                 | 5787.57                                  | 4976.71                                  | SOUTH                                    | D6_EAST_SOUTH_CENTRAL                    | REGION_IV                                | SOUTHEAST                                | \n",
       "| 039 - EXTRACRANIAL PROCEDURES W/O CC/MCC | 10006                                    | ELIZA COFFEE MEMORIAL HOSPITAL           | 205 MARENGO STREET                       | FLORENCE                                 | AL                                       | 35631                                    | AL - Birmingham                          | 24                                       | 37560.37                                 | 5434.95                                  | 4453.79                                  | SOUTH                                    | D6_EAST_SOUTH_CENTRAL                    | REGION_IV                                | SOUTHEAST                                | \n",
       "| 039 - EXTRACRANIAL PROCEDURES W/O CC/MCC | 10011                                    | ST VINCENT'S EAST                        | 50 MEDICAL PARK EAST DRIVE               | BIRMINGHAM                               | AL                                       | 35235                                    | AL - Birmingham                          | 25                                       | 13998.28                                 | 5417.56                                  | 4129.16                                  | SOUTH                                    | D6_EAST_SOUTH_CENTRAL                    | REGION_IV                                | SOUTHEAST                                | \n",
       "| 039 - EXTRACRANIAL PROCEDURES W/O CC/MCC | 10016                                    | SHELBY BAPTIST MEDICAL CENTER            | 1000 FIRST STREET NORTH                  | ALABASTER                                | AL                                       | 35007                                    | AL - Birmingham                          | 18                                       | 31633.27                                 | 5658.33                                  | 4851.44                                  | SOUTH                                    | D6_EAST_SOUTH_CENTRAL                    | REGION_IV                                | SOUTHEAST                                | \n",
       "| 039 - EXTRACRANIAL PROCEDURES W/O CC/MCC | 10023                                    | BAPTIST MEDICAL CENTER SOUTH             | 2105 EAST SOUTH BOULEVARD                | MONTGOMERY                               | AL                                       | 36116                                    | AL - Montgomery                          | 67                                       | 16920.79                                 | 6653.80                                  | 5374.14                                  | SOUTH                                    | D6_EAST_SOUTH_CENTRAL                    | REGION_IV                                | SOUTHEAST                                | \n",
       "\n",
       "\n"
      ],
      "text/plain": [
       "  DRG.Definition                           Provider.Id\n",
       "1 039 - EXTRACRANIAL PROCEDURES W/O CC/MCC 10001      \n",
       "2 039 - EXTRACRANIAL PROCEDURES W/O CC/MCC 10005      \n",
       "3 039 - EXTRACRANIAL PROCEDURES W/O CC/MCC 10006      \n",
       "4 039 - EXTRACRANIAL PROCEDURES W/O CC/MCC 10011      \n",
       "5 039 - EXTRACRANIAL PROCEDURES W/O CC/MCC 10016      \n",
       "6 039 - EXTRACRANIAL PROCEDURES W/O CC/MCC 10023      \n",
       "  Provider.Name                    Provider.Street.Address    Provider.City\n",
       "1 SOUTHEAST ALABAMA MEDICAL CENTER 1108 ROSS CLARK CIRCLE     DOTHAN       \n",
       "2 MARSHALL MEDICAL CENTER SOUTH    2505 U S HIGHWAY 431 NORTH BOAZ         \n",
       "3 ELIZA COFFEE MEMORIAL HOSPITAL   205 MARENGO STREET         FLORENCE     \n",
       "4 ST VINCENT'S EAST                50 MEDICAL PARK EAST DRIVE BIRMINGHAM   \n",
       "5 SHELBY BAPTIST MEDICAL CENTER    1000 FIRST STREET NORTH    ALABASTER    \n",
       "6 BAPTIST MEDICAL CENTER SOUTH     2105 EAST SOUTH BOULEVARD  MONTGOMERY   \n",
       "  Provider.State Provider.Zip.Code Hospital.Referral.Region.Description\n",
       "1 AL             36301             AL - Dothan                         \n",
       "2 AL             35957             AL - Birmingham                     \n",
       "3 AL             35631             AL - Birmingham                     \n",
       "4 AL             35235             AL - Birmingham                     \n",
       "5 AL             35007             AL - Birmingham                     \n",
       "6 AL             36116             AL - Montgomery                     \n",
       "  Total.Discharges Average.Covered.Charges Average.Total.Payments\n",
       "1 91               32963.07                5777.24               \n",
       "2 14               15131.85                5787.57               \n",
       "3 24               37560.37                5434.95               \n",
       "4 25               13998.28                5417.56               \n",
       "5 18               31633.27                5658.33               \n",
       "6 67               16920.79                6653.80               \n",
       "  Average.Medicare.Payments Census.Region Census.Region.Division Federal.Region\n",
       "1 4763.73                   SOUTH         D6_EAST_SOUTH_CENTRAL  REGION_IV     \n",
       "2 4976.71                   SOUTH         D6_EAST_SOUTH_CENTRAL  REGION_IV     \n",
       "3 4453.79                   SOUTH         D6_EAST_SOUTH_CENTRAL  REGION_IV     \n",
       "4 4129.16                   SOUTH         D6_EAST_SOUTH_CENTRAL  REGION_IV     \n",
       "5 4851.44                   SOUTH         D6_EAST_SOUTH_CENTRAL  REGION_IV     \n",
       "6 5374.14                   SOUTH         D6_EAST_SOUTH_CENTRAL  REGION_IV     \n",
       "  Economic.Analysis.Region\n",
       "1 SOUTHEAST               \n",
       "2 SOUTHEAST               \n",
       "3 SOUTHEAST               \n",
       "4 SOUTHEAST               \n",
       "5 SOUTHEAST               \n",
       "6 SOUTHEAST               "
      ]
     },
     "metadata": {},
     "output_type": "display_data"
    }
   ],
   "source": [
    "head(df_cms)"
   ]
  }
 ],
 "metadata": {
  "kernelspec": {
   "display_name": "R",
   "language": "R",
   "name": "ir"
  },
  "language_info": {
   "codemirror_mode": "r",
   "file_extension": ".r",
   "mimetype": "text/x-r-source",
   "name": "R",
   "pygments_lexer": "r",
   "version": "3.4.3"
  }
 },
 "nbformat": 4,
 "nbformat_minor": 2
}
